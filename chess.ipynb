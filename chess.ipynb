{
 "cells": [
  {
   "cell_type": "code",
   "execution_count": 2,
   "metadata": {},
   "outputs": [],
   "source": [
    "import os\n",
    "import pandas as pd\n",
    "import numpy as np\n",
    "import seaborn as sn"
   ]
  },
  {
   "cell_type": "code",
   "execution_count": 3,
   "metadata": {},
   "outputs": [
    {
     "data": {
      "text/html": [
       "<div>\n",
       "<style scoped>\n",
       "    .dataframe tbody tr th:only-of-type {\n",
       "        vertical-align: middle;\n",
       "    }\n",
       "\n",
       "    .dataframe tbody tr th {\n",
       "        vertical-align: top;\n",
       "    }\n",
       "\n",
       "    .dataframe thead th {\n",
       "        text-align: right;\n",
       "    }\n",
       "</style>\n",
       "<table border=\"1\" class=\"dataframe\">\n",
       "  <thead>\n",
       "    <tr style=\"text-align: right;\">\n",
       "      <th></th>\n",
       "      <th>id</th>\n",
       "      <th>rated</th>\n",
       "      <th>created_at</th>\n",
       "      <th>last_move_at</th>\n",
       "      <th>turns</th>\n",
       "      <th>victory_status</th>\n",
       "      <th>winner</th>\n",
       "      <th>increment_code</th>\n",
       "      <th>white_id</th>\n",
       "      <th>white_rating</th>\n",
       "      <th>black_id</th>\n",
       "      <th>black_rating</th>\n",
       "      <th>moves</th>\n",
       "      <th>opening_eco</th>\n",
       "      <th>opening_name</th>\n",
       "      <th>opening_ply</th>\n",
       "    </tr>\n",
       "  </thead>\n",
       "  <tbody>\n",
       "    <tr>\n",
       "      <th>0</th>\n",
       "      <td>TZJHLljE</td>\n",
       "      <td>False</td>\n",
       "      <td>1.504210e+12</td>\n",
       "      <td>1.504210e+12</td>\n",
       "      <td>13</td>\n",
       "      <td>outoftime</td>\n",
       "      <td>white</td>\n",
       "      <td>15+2</td>\n",
       "      <td>bourgris</td>\n",
       "      <td>1500</td>\n",
       "      <td>a-00</td>\n",
       "      <td>1191</td>\n",
       "      <td>d4 d5 c4 c6 cxd5 e6 dxe6 fxe6 Nf3 Bb4+ Nc3 Ba5...</td>\n",
       "      <td>D10</td>\n",
       "      <td>Slav Defense: Exchange Variation</td>\n",
       "      <td>5</td>\n",
       "    </tr>\n",
       "    <tr>\n",
       "      <th>1</th>\n",
       "      <td>l1NXvwaE</td>\n",
       "      <td>True</td>\n",
       "      <td>1.504130e+12</td>\n",
       "      <td>1.504130e+12</td>\n",
       "      <td>16</td>\n",
       "      <td>resign</td>\n",
       "      <td>black</td>\n",
       "      <td>5+10</td>\n",
       "      <td>a-00</td>\n",
       "      <td>1322</td>\n",
       "      <td>skinnerua</td>\n",
       "      <td>1261</td>\n",
       "      <td>d4 Nc6 e4 e5 f4 f6 dxe5 fxe5 fxe5 Nxe5 Qd4 Nc6...</td>\n",
       "      <td>B00</td>\n",
       "      <td>Nimzowitsch Defense: Kennedy Variation</td>\n",
       "      <td>4</td>\n",
       "    </tr>\n",
       "    <tr>\n",
       "      <th>2</th>\n",
       "      <td>mIICvQHh</td>\n",
       "      <td>True</td>\n",
       "      <td>1.504130e+12</td>\n",
       "      <td>1.504130e+12</td>\n",
       "      <td>61</td>\n",
       "      <td>mate</td>\n",
       "      <td>white</td>\n",
       "      <td>5+10</td>\n",
       "      <td>ischia</td>\n",
       "      <td>1496</td>\n",
       "      <td>a-00</td>\n",
       "      <td>1500</td>\n",
       "      <td>e4 e5 d3 d6 Be3 c6 Be2 b5 Nd2 a5 a4 c5 axb5 Nc...</td>\n",
       "      <td>C20</td>\n",
       "      <td>King's Pawn Game: Leonardis Variation</td>\n",
       "      <td>3</td>\n",
       "    </tr>\n",
       "  </tbody>\n",
       "</table>\n",
       "</div>"
      ],
      "text/plain": [
       "         id  rated    created_at  last_move_at  turns victory_status winner  \\\n",
       "0  TZJHLljE  False  1.504210e+12  1.504210e+12     13      outoftime  white   \n",
       "1  l1NXvwaE   True  1.504130e+12  1.504130e+12     16         resign  black   \n",
       "2  mIICvQHh   True  1.504130e+12  1.504130e+12     61           mate  white   \n",
       "\n",
       "  increment_code  white_id  white_rating   black_id  black_rating  \\\n",
       "0           15+2  bourgris          1500       a-00          1191   \n",
       "1           5+10      a-00          1322  skinnerua          1261   \n",
       "2           5+10    ischia          1496       a-00          1500   \n",
       "\n",
       "                                               moves opening_eco  \\\n",
       "0  d4 d5 c4 c6 cxd5 e6 dxe6 fxe6 Nf3 Bb4+ Nc3 Ba5...         D10   \n",
       "1  d4 Nc6 e4 e5 f4 f6 dxe5 fxe5 fxe5 Nxe5 Qd4 Nc6...         B00   \n",
       "2  e4 e5 d3 d6 Be3 c6 Be2 b5 Nd2 a5 a4 c5 axb5 Nc...         C20   \n",
       "\n",
       "                             opening_name  opening_ply  \n",
       "0        Slav Defense: Exchange Variation            5  \n",
       "1  Nimzowitsch Defense: Kennedy Variation            4  \n",
       "2   King's Pawn Game: Leonardis Variation            3  "
      ]
     },
     "execution_count": 3,
     "metadata": {},
     "output_type": "execute_result"
    }
   ],
   "source": [
    "df = pd.read_csv(r'games.csv')\n",
    "df.head(3)"
   ]
  },
  {
   "cell_type": "code",
   "execution_count": 4,
   "metadata": {},
   "outputs": [],
   "source": [
    "# удалим внутренний индекс, поскольку он никак нам не пригодится. \n",
    "df = df.drop(columns='id');"
   ]
  },
  {
   "cell_type": "code",
   "execution_count": 5,
   "metadata": {},
   "outputs": [],
   "source": [
    "# проверим на нули\n",
    "#TODO"
   ]
  },
  {
   "cell_type": "markdown",
   "metadata": {},
   "source": [
    "Попробуем исключить ненужные признаки.\n",
    "\n",
    "Например, *openind_name* - скорее всего избыточная информация, поскольку она (интуитивно) коррелирует с *opening_eco*. "
   ]
  },
  {
   "cell_type": "markdown",
   "metadata": {},
   "source": [
    "Пострроим корреляционную матрицу для числовых признаков"
   ]
  },
  {
   "cell_type": "code",
   "execution_count": 6,
   "metadata": {},
   "outputs": [
    {
     "data": {
      "text/plain": [
       "<AxesSubplot: >"
      ]
     },
     "execution_count": 6,
     "metadata": {},
     "output_type": "execute_result"
    },
    {
     "data": {
      "image/png": "[encoded data removed]",
      "text/plain": [
       "<Figure size 640x480 with 2 Axes>"
      ]
     },
     "metadata": {},
     "output_type": "display_data"
    }
   ],
   "source": [
    "# Correlation Matrix formation\n",
    "corr_matrix = df.corr(numeric_only = True);\n",
    "#print(corr_matrix)\n",
    "sn.heatmap(corr_matrix, annot=True)"
   ]
  },
  {
   "cell_type": "markdown",
   "metadata": {},
   "source": [
    "Видим корреляцию 1 между *created_at* и *last_move_at*, значть безболезненно можем уделить один из этих признаков."
   ]
  },
  {
   "cell_type": "code",
   "execution_count": 7,
   "metadata": {},
   "outputs": [],
   "source": [
    "df = df.drop(columns='last_move_at');"
   ]
  },
  {
   "cell_type": "markdown",
   "metadata": {},
   "source": [
    "Но помимо принаков, выраженных в числах, нам интересна коррелция между строковыми признаками. Исследлвание цвета, ников и типа игры пока отложим, поскольку корреляционные свойства этих столбцов не вызывают сомнений."
   ]
  },
  {
   "cell_type": "code",
   "execution_count": 8,
   "metadata": {},
   "outputs": [
    {
     "data": {
      "text/plain": [
       "0.029484289873009637"
      ]
     },
     "execution_count": 8,
     "metadata": {},
     "output_type": "execute_result"
    }
   ],
   "source": [
    "df['opening_name'].astype('category').cat.codes. corr(df['opening_eco'].astype('category').cat.codes)"
   ]
  },
  {
   "cell_type": "markdown",
   "metadata": {},
   "source": [
    "Видим очень низную корреляцию, но интуиция подсказыват, что все не так просто. Копнем глубже."
   ]
  },
  {
   "cell_type": "code",
   "execution_count": 9,
   "metadata": {},
   "outputs": [
    {
     "name": "stdout",
     "output_type": "stream",
     "text": [
      "                             opening_name opening_eco\n",
      "141                      Alekhine Defense         B02\n",
      "424                      Alekhine Defense         B03\n",
      "124                   Alekhine Defense #2         B03\n",
      "9637                  Alekhine Defense #3         B03\n",
      "4394   Alekhine Defense: Balogh Variation         B03\n",
      "...                                   ...         ...\n",
      "598    Zukertort Opening: Slav Invitation         A04\n",
      "1070   Zukertort Opening: Tennison Gambit         A06\n",
      "10761       Zukertort Opening: The Walrus         A04\n",
      "5057        Zukertort Opening: Vos Gambit         A04\n",
      "18548     Zukertort Opening: Wade Defense         A04\n",
      "\n",
      "[1542 rows x 2 columns]\n"
     ]
    }
   ],
   "source": [
    "df_openings = df[['opening_name', 'opening_eco']]\n",
    "df_openings = df_openings.sort_values (by = ['opening_name', 'opening_eco'])\n",
    "# удалим одинаковые строки\n",
    "df_openings = df_openings.drop_duplicates()\n",
    "print(df_openings)"
   ]
  },
  {
   "cell_type": "code",
   "execution_count": 10,
   "metadata": {},
   "outputs": [
    {
     "name": "stdout",
     "output_type": "stream",
     "text": [
      "opening_name    1477\n",
      "opening_eco      365\n",
      "dtype: int64\n",
      "df_len =  20058\n"
     ]
    },
    {
     "data": {
      "image/png": "[encoded data removed]",
      "text/plain": [
       "<Figure size 640x480 with 1 Axes>"
      ]
     },
     "metadata": {},
     "output_type": "display_data"
    }
   ],
   "source": [
    "print(df[['opening_name', 'opening_eco']].nunique())\n",
    "print('df_len = ', len(df))\n",
    "ax = df['opening_name'].astype('category').cat.codes.plot.hist(bins=10)\n",
    "ax = df['opening_eco'].astype('category').cat.codes.plot.hist(bins=10)\n",
    "# opening_eco Ведет себя гораздо интереснее, чем почти равномерный opening_name\n",
    "# к тому же на каждый opening_name приходится всего по 13 игр против 55 у opening_eco"
   ]
  },
  {
   "cell_type": "markdown",
   "metadata": {},
   "source": [
    "Теперь хорошо видно, что признак *opening name* либо содердит более подробную информацию, чем *opening_eco*, либо один и тот же вариант признака назван по-разному.\n",
    "\n",
    "Нам стоит избавиться от копий, похожих на *Alekhine Defense* - *Alekhine Defense №2*, поскольку это не несет никакой информации. Но с учетом того, что в шахматах огромное количество дебютов, размер выборки просто не позволит анализировать игры с точной идентификацией дебютов. Значит логично вообще избавиться от столбца *opening_name*. \n",
    "\n",
    "К тому же, поскольку *opening_name* однозначно определяет первые ходы в партии, а дальнейшие ходы нас не интересуют (ввиду сложности анализа без шахматного движка), прихнак *moves* смело удаляем тоже."
   ]
  },
  {
   "cell_type": "code",
   "execution_count": 11,
   "metadata": {},
   "outputs": [],
   "source": [
    "df = df.drop(columns=['opening_name', 'moves'])"
   ]
  },
  {
   "cell_type": "code",
   "execution_count": 12,
   "metadata": {},
   "outputs": [
    {
     "data": {
      "text/plain": [
       "Index(['rated', 'created_at', 'turns', 'victory_status', 'winner',\n",
       "       'increment_code', 'white_id', 'white_rating', 'black_id',\n",
       "       'black_rating', 'opening_eco', 'opening_ply'],\n",
       "      dtype='object')"
      ]
     },
     "execution_count": 12,
     "metadata": {},
     "output_type": "execute_result"
    }
   ],
   "source": [
    "df.columns"
   ]
  },
  {
   "cell_type": "markdown",
   "metadata": {},
   "source": [
    "Наконец проанализируем корреляцию признака, отвечающего за победу с другими признаками."
   ]
  },
  {
   "cell_type": "markdown",
   "metadata": {},
   "source": [
    "Для начала перечислим те признаки, которые нас особенно интересуют:\n",
    "* Рейтинг победителя и проигравшего [*white_rating*, *black_rating*]\n",
    "* Цвет фигур победителя (например, известно, что на высоком уровне цвет фигур приобретает больший вес)\n",
    "* Число ходов в партии *turns*\n",
    "* Число ходов, сделанных по дебюту\n",
    "* Вариант завершения игры *victory_status*\n",
    "* Тип контроля"
   ]
  },
  {
   "cell_type": "code",
   "execution_count": 13,
   "metadata": {},
   "outputs": [
    {
     "name": "stdout",
     "output_type": "stream",
     "text": [
      "Варианты завершения игры: ['outoftime' 'resign' 'mate' 'draw']\n",
      "Число вариантов контроля 400\n",
      "Варианты числа ходов по дебюту [ 1  2  3  4  5  6  7  8  9 10 11 12 13 14 15 16 17 18 19 20 22 24 28]\n"
     ]
    }
   ],
   "source": [
    "print('Варианты завершения игры:', df['victory_status'].unique())\n",
    "print('Число вариантов контроля', df['increment_code'].nunique())\n",
    "print('Варианты числа ходов по дебюту', np.sort(df['opening_ply'].unique().tolist()))"
   ]
  },
  {
   "cell_type": "markdown",
   "metadata": {},
   "source": [
    "Построим гистограммы рейтингов"
   ]
  },
  {
   "cell_type": "code",
   "execution_count": 14,
   "metadata": {},
   "outputs": [
    {
     "data": {
      "image/png": "[encoded data removed]",
      "text/plain": [
       "<Figure size 640x480 with 1 Axes>"
      ]
     },
     "metadata": {},
     "output_type": "display_data"
    }
   ],
   "source": [
    "hist = df['white_rating'].hist()\n",
    "hist = df['black_rating'].hist(alpha = 0.5)\n",
    "x_train = df['black_rating'].tolist()\n"
   ]
  },
  {
   "cell_type": "code",
   "execution_count": 15,
   "metadata": {},
   "outputs": [
    {
     "name": "stdout",
     "output_type": "stream",
     "text": [
      "mean =  1588.8319872370128\n",
      "std =  291.02887100586514\n"
     ]
    },
    {
     "data": {
      "image/png": "[encoded data removed]",
      "text/plain": [
       "<Figure size 500x500 with 1 Axes>"
      ]
     },
     "metadata": {},
     "output_type": "display_data"
    }
   ],
   "source": [
    "# Yормальное распределение? Ради прикола посчитаем выборочные μ, σ и ядерную оценку плотности KDE\n",
    "from numpy.random import randn\n",
    "import matplotlib as mpl\n",
    "import seaborn as sns\n",
    "import matplotlib.pyplot as plt\n",
    "import scipy.stats as stats\n",
    "import math\n",
    "\n",
    "ax = sns.displot(x_train, kind=\"kde\", label = 'KDE', color = 'blue')\n",
    "mu = np.mean(x_train)\n",
    "print('mean = ', mu)\n",
    "print('std = ', np.std(x_train))\n",
    "\n",
    "variance = np.var(x_train)\n",
    "sigma = math.sqrt(variance)\n",
    "x = np.linspace(mu - 3*sigma, mu + 3*sigma, 100)\n",
    "ax = plt.plot(x, stats.norm.pdf(x, mu, sigma), color = 'green', label = 'Estimate as \\nN(' + str(int(mu)) + ', ' + str(int(sigma)) + ')', linestyle='--', linewidth = 2)\n",
    "plt.legend()\n",
    "plt.show()"
   ]
  },
  {
   "cell_type": "markdown",
   "metadata": {},
   "source": [
    "Посморим, что происходит внутри вариантов контроля, поcкольку их получается слишком много"
   ]
  },
  {
   "cell_type": "code",
   "execution_count": 16,
   "metadata": {},
   "outputs": [
    {
     "data": {
      "image/png": "[encoded data removed]",
      "text/plain": [
       "<Figure size 640x480 with 1 Axes>"
      ]
     },
     "metadata": {},
     "output_type": "display_data"
    }
   ],
   "source": [
    "ax = df['increment_code'].astype('category').cat.codes.plot.hist(bins=400)\n",
    "# или если перевести по-человечески"
   ]
  },
  {
   "cell_type": "markdown",
   "metadata": {},
   "source": [
    "Избавимся от инкремента с учетом правил шахмат с фишеровским добавленем: x+y обозначает x минут на игру + y секунд каждый ход"
   ]
  },
  {
   "cell_type": "code",
   "execution_count": 17,
   "metadata": {},
   "outputs": [],
   "source": [
    "increment_codes = df['increment_code'].tolist()\n",
    "#turns = df['turns'].tolist()\n",
    "new_t = [i.split('+') for i in increment_codes]\n",
    "#increment_codes_modif = [ (int(new_t[i][0]) + int(new_t[i][1])*turns[i])  for i in range(len(turns))]\n",
    "df['limit'] = [int(i[0]) for i in new_t]#increment_codes_modif\n",
    "df['increment'] = [int(i[1]) for i in new_t]#increment_codes_modif"
   ]
  },
  {
   "cell_type": "code",
   "execution_count": 18,
   "metadata": {},
   "outputs": [
    {
     "data": {
      "text/html": [
       "<div>\n",
       "<style scoped>\n",
       "    .dataframe tbody tr th:only-of-type {\n",
       "        vertical-align: middle;\n",
       "    }\n",
       "\n",
       "    .dataframe tbody tr th {\n",
       "        vertical-align: top;\n",
       "    }\n",
       "\n",
       "    .dataframe thead th {\n",
       "        text-align: right;\n",
       "    }\n",
       "</style>\n",
       "<table border=\"1\" class=\"dataframe\">\n",
       "  <thead>\n",
       "    <tr style=\"text-align: right;\">\n",
       "      <th></th>\n",
       "      <th>limit</th>\n",
       "      <th>increment</th>\n",
       "      <th>increment_code</th>\n",
       "    </tr>\n",
       "  </thead>\n",
       "  <tbody>\n",
       "    <tr>\n",
       "      <th>0</th>\n",
       "      <td>15</td>\n",
       "      <td>2</td>\n",
       "      <td>15+2</td>\n",
       "    </tr>\n",
       "    <tr>\n",
       "      <th>1</th>\n",
       "      <td>5</td>\n",
       "      <td>10</td>\n",
       "      <td>5+10</td>\n",
       "    </tr>\n",
       "    <tr>\n",
       "      <th>2</th>\n",
       "      <td>5</td>\n",
       "      <td>10</td>\n",
       "      <td>5+10</td>\n",
       "    </tr>\n",
       "    <tr>\n",
       "      <th>3</th>\n",
       "      <td>20</td>\n",
       "      <td>0</td>\n",
       "      <td>20+0</td>\n",
       "    </tr>\n",
       "    <tr>\n",
       "      <th>4</th>\n",
       "      <td>30</td>\n",
       "      <td>3</td>\n",
       "      <td>30+3</td>\n",
       "    </tr>\n",
       "    <tr>\n",
       "      <th>...</th>\n",
       "      <td>...</td>\n",
       "      <td>...</td>\n",
       "      <td>...</td>\n",
       "    </tr>\n",
       "    <tr>\n",
       "      <th>20053</th>\n",
       "      <td>10</td>\n",
       "      <td>10</td>\n",
       "      <td>10+10</td>\n",
       "    </tr>\n",
       "    <tr>\n",
       "      <th>20054</th>\n",
       "      <td>10</td>\n",
       "      <td>0</td>\n",
       "      <td>10+0</td>\n",
       "    </tr>\n",
       "    <tr>\n",
       "      <th>20055</th>\n",
       "      <td>10</td>\n",
       "      <td>0</td>\n",
       "      <td>10+0</td>\n",
       "    </tr>\n",
       "    <tr>\n",
       "      <th>20056</th>\n",
       "      <td>10</td>\n",
       "      <td>0</td>\n",
       "      <td>10+0</td>\n",
       "    </tr>\n",
       "    <tr>\n",
       "      <th>20057</th>\n",
       "      <td>10</td>\n",
       "      <td>0</td>\n",
       "      <td>10+0</td>\n",
       "    </tr>\n",
       "  </tbody>\n",
       "</table>\n",
       "<p>20058 rows × 3 columns</p>\n",
       "</div>"
      ],
      "text/plain": [
       "       limit  increment increment_code\n",
       "0         15          2           15+2\n",
       "1          5         10           5+10\n",
       "2          5         10           5+10\n",
       "3         20          0           20+0\n",
       "4         30          3           30+3\n",
       "...      ...        ...            ...\n",
       "20053     10         10          10+10\n",
       "20054     10          0           10+0\n",
       "20055     10          0           10+0\n",
       "20056     10          0           10+0\n",
       "20057     10          0           10+0\n",
       "\n",
       "[20058 rows x 3 columns]"
      ]
     },
     "execution_count": 18,
     "metadata": {},
     "output_type": "execute_result"
    }
   ],
   "source": [
    "df[['limit', 'increment', 'increment_code']]"
   ]
  },
  {
   "cell_type": "code",
   "execution_count": 19,
   "metadata": {},
   "outputs": [
    {
     "name": "stdout",
     "output_type": "stream",
     "text": [
      "33\n",
      "20058\n"
     ]
    },
    {
     "data": {
      "text/plain": [
       "[(10, 9456),\n",
       " (15, 3382),\n",
       " (5, 1795),\n",
       " (20, 936),\n",
       " (8, 924),\n",
       " (30, 746),\n",
       " (7, 661),\n",
       " (25, 322),\n",
       " (9, 261),\n",
       " (12, 225),\n",
       " (6, 176),\n",
       " (45, 158),\n",
       " (180, 154),\n",
       " (60, 103),\n",
       " (11, 98)]"
      ]
     },
     "execution_count": 19,
     "metadata": {},
     "output_type": "execute_result"
    },
    {
     "data": {
      "image/png": "[encoded data removed]",
      "text/plain": [
       "<Figure size 640x480 with 1 Axes>"
      ]
     },
     "metadata": {},
     "output_type": "display_data"
    }
   ],
   "source": [
    "from collections import Counter\n",
    "print(df['limit'].nunique())\n",
    "print(len(df['limit'].tolist()))\n",
    "hist = df['limit'].hist(bins = 10)\n",
    "# и сразу все видно.\n",
    "\n",
    "Counter(df['limit'].tolist()).most_common(15)"
   ]
  },
  {
   "cell_type": "markdown",
   "metadata": {},
   "source": [
    "Как шахматист со стажем заявляю, что датасет сомнетельный, поскольку 90% шахматистов играют \"bullit\" 1+0\n",
    "![title](https://r3.mt.ru/r5/photo29D5/20280393772-0/jpg/bp.jpeg)"
   ]
  },
  {
   "cell_type": "code",
   "execution_count": 20,
   "metadata": {},
   "outputs": [],
   "source": [
    "df = df.drop(columns=['increment_code'])"
   ]
  },
  {
   "cell_type": "code",
   "execution_count": 21,
   "metadata": {},
   "outputs": [
    {
     "name": "stdout",
     "output_type": "stream",
     "text": [
      "[0.04736264831987237, 0.45403330342008175, 0.49860404826004584]\n"
     ]
    },
    {
     "data": {
      "image/png": "[encoded data removed]",
      "text/plain": [
       "<Figure size 640x480 with 1 Axes>"
      ]
     },
     "metadata": {},
     "output_type": "display_data"
    }
   ],
   "source": [
    "hist = df['winner'].hist()\n",
    "Counter(df['winner'].tolist())\n",
    "\n",
    "Nor = 10001 + 9107 + 950\n",
    "freq = [950/Nor, 9107/Nor, 10001/Nor]\n",
    "print(freq)"
   ]
  },
  {
   "cell_type": "markdown",
   "metadata": {},
   "source": [
    "В результате на данный момент имеем"
   ]
  },
  {
   "cell_type": "code",
   "execution_count": 22,
   "metadata": {},
   "outputs": [
    {
     "data": {
      "text/html": [
       "<div>\n",
       "<style scoped>\n",
       "    .dataframe tbody tr th:only-of-type {\n",
       "        vertical-align: middle;\n",
       "    }\n",
       "\n",
       "    .dataframe tbody tr th {\n",
       "        vertical-align: top;\n",
       "    }\n",
       "\n",
       "    .dataframe thead th {\n",
       "        text-align: right;\n",
       "    }\n",
       "</style>\n",
       "<table border=\"1\" class=\"dataframe\">\n",
       "  <thead>\n",
       "    <tr style=\"text-align: right;\">\n",
       "      <th></th>\n",
       "      <th>rated</th>\n",
       "      <th>created_at</th>\n",
       "      <th>turns</th>\n",
       "      <th>victory_status</th>\n",
       "      <th>winner</th>\n",
       "      <th>white_id</th>\n",
       "      <th>white_rating</th>\n",
       "      <th>black_id</th>\n",
       "      <th>black_rating</th>\n",
       "      <th>opening_eco</th>\n",
       "      <th>opening_ply</th>\n",
       "      <th>limit</th>\n",
       "      <th>increment</th>\n",
       "    </tr>\n",
       "  </thead>\n",
       "  <tbody>\n",
       "    <tr>\n",
       "      <th>0</th>\n",
       "      <td>False</td>\n",
       "      <td>1.504210e+12</td>\n",
       "      <td>13</td>\n",
       "      <td>outoftime</td>\n",
       "      <td>white</td>\n",
       "      <td>bourgris</td>\n",
       "      <td>1500</td>\n",
       "      <td>a-00</td>\n",
       "      <td>1191</td>\n",
       "      <td>D10</td>\n",
       "      <td>5</td>\n",
       "      <td>15</td>\n",
       "      <td>2</td>\n",
       "    </tr>\n",
       "    <tr>\n",
       "      <th>1</th>\n",
       "      <td>True</td>\n",
       "      <td>1.504130e+12</td>\n",
       "      <td>16</td>\n",
       "      <td>resign</td>\n",
       "      <td>black</td>\n",
       "      <td>a-00</td>\n",
       "      <td>1322</td>\n",
       "      <td>skinnerua</td>\n",
       "      <td>1261</td>\n",
       "      <td>B00</td>\n",
       "      <td>4</td>\n",
       "      <td>5</td>\n",
       "      <td>10</td>\n",
       "    </tr>\n",
       "    <tr>\n",
       "      <th>2</th>\n",
       "      <td>True</td>\n",
       "      <td>1.504130e+12</td>\n",
       "      <td>61</td>\n",
       "      <td>mate</td>\n",
       "      <td>white</td>\n",
       "      <td>ischia</td>\n",
       "      <td>1496</td>\n",
       "      <td>a-00</td>\n",
       "      <td>1500</td>\n",
       "      <td>C20</td>\n",
       "      <td>3</td>\n",
       "      <td>5</td>\n",
       "      <td>10</td>\n",
       "    </tr>\n",
       "    <tr>\n",
       "      <th>3</th>\n",
       "      <td>True</td>\n",
       "      <td>1.504110e+12</td>\n",
       "      <td>61</td>\n",
       "      <td>mate</td>\n",
       "      <td>white</td>\n",
       "      <td>daniamurashov</td>\n",
       "      <td>1439</td>\n",
       "      <td>adivanov2009</td>\n",
       "      <td>1454</td>\n",
       "      <td>D02</td>\n",
       "      <td>3</td>\n",
       "      <td>20</td>\n",
       "      <td>0</td>\n",
       "    </tr>\n",
       "    <tr>\n",
       "      <th>4</th>\n",
       "      <td>True</td>\n",
       "      <td>1.504030e+12</td>\n",
       "      <td>95</td>\n",
       "      <td>mate</td>\n",
       "      <td>white</td>\n",
       "      <td>nik221107</td>\n",
       "      <td>1523</td>\n",
       "      <td>adivanov2009</td>\n",
       "      <td>1469</td>\n",
       "      <td>C41</td>\n",
       "      <td>5</td>\n",
       "      <td>30</td>\n",
       "      <td>3</td>\n",
       "    </tr>\n",
       "    <tr>\n",
       "      <th>...</th>\n",
       "      <td>...</td>\n",
       "      <td>...</td>\n",
       "      <td>...</td>\n",
       "      <td>...</td>\n",
       "      <td>...</td>\n",
       "      <td>...</td>\n",
       "      <td>...</td>\n",
       "      <td>...</td>\n",
       "      <td>...</td>\n",
       "      <td>...</td>\n",
       "      <td>...</td>\n",
       "      <td>...</td>\n",
       "      <td>...</td>\n",
       "    </tr>\n",
       "    <tr>\n",
       "      <th>20053</th>\n",
       "      <td>True</td>\n",
       "      <td>1.499791e+12</td>\n",
       "      <td>24</td>\n",
       "      <td>resign</td>\n",
       "      <td>white</td>\n",
       "      <td>belcolt</td>\n",
       "      <td>1691</td>\n",
       "      <td>jamboger</td>\n",
       "      <td>1220</td>\n",
       "      <td>A80</td>\n",
       "      <td>2</td>\n",
       "      <td>10</td>\n",
       "      <td>10</td>\n",
       "    </tr>\n",
       "    <tr>\n",
       "      <th>20054</th>\n",
       "      <td>True</td>\n",
       "      <td>1.499698e+12</td>\n",
       "      <td>82</td>\n",
       "      <td>mate</td>\n",
       "      <td>black</td>\n",
       "      <td>jamboger</td>\n",
       "      <td>1233</td>\n",
       "      <td>farrukhasomiddinov</td>\n",
       "      <td>1196</td>\n",
       "      <td>A41</td>\n",
       "      <td>2</td>\n",
       "      <td>10</td>\n",
       "      <td>0</td>\n",
       "    </tr>\n",
       "    <tr>\n",
       "      <th>20055</th>\n",
       "      <td>True</td>\n",
       "      <td>1.499698e+12</td>\n",
       "      <td>35</td>\n",
       "      <td>mate</td>\n",
       "      <td>white</td>\n",
       "      <td>jamboger</td>\n",
       "      <td>1219</td>\n",
       "      <td>schaaksmurf3</td>\n",
       "      <td>1286</td>\n",
       "      <td>D00</td>\n",
       "      <td>3</td>\n",
       "      <td>10</td>\n",
       "      <td>0</td>\n",
       "    </tr>\n",
       "    <tr>\n",
       "      <th>20056</th>\n",
       "      <td>True</td>\n",
       "      <td>1.499696e+12</td>\n",
       "      <td>109</td>\n",
       "      <td>resign</td>\n",
       "      <td>white</td>\n",
       "      <td>marcodisogno</td>\n",
       "      <td>1360</td>\n",
       "      <td>jamboger</td>\n",
       "      <td>1227</td>\n",
       "      <td>B07</td>\n",
       "      <td>4</td>\n",
       "      <td>10</td>\n",
       "      <td>0</td>\n",
       "    </tr>\n",
       "    <tr>\n",
       "      <th>20057</th>\n",
       "      <td>True</td>\n",
       "      <td>1.499643e+12</td>\n",
       "      <td>78</td>\n",
       "      <td>mate</td>\n",
       "      <td>black</td>\n",
       "      <td>jamboger</td>\n",
       "      <td>1235</td>\n",
       "      <td>ffbob</td>\n",
       "      <td>1339</td>\n",
       "      <td>D00</td>\n",
       "      <td>3</td>\n",
       "      <td>10</td>\n",
       "      <td>0</td>\n",
       "    </tr>\n",
       "  </tbody>\n",
       "</table>\n",
       "<p>20058 rows × 13 columns</p>\n",
       "</div>"
      ],
      "text/plain": [
       "       rated    created_at  turns victory_status winner       white_id  \\\n",
       "0      False  1.504210e+12     13      outoftime  white       bourgris   \n",
       "1       True  1.504130e+12     16         resign  black           a-00   \n",
       "2       True  1.504130e+12     61           mate  white         ischia   \n",
       "3       True  1.504110e+12     61           mate  white  daniamurashov   \n",
       "4       True  1.504030e+12     95           mate  white      nik221107   \n",
       "...      ...           ...    ...            ...    ...            ...   \n",
       "20053   True  1.499791e+12     24         resign  white        belcolt   \n",
       "20054   True  1.499698e+12     82           mate  black       jamboger   \n",
       "20055   True  1.499698e+12     35           mate  white       jamboger   \n",
       "20056   True  1.499696e+12    109         resign  white   marcodisogno   \n",
       "20057   True  1.499643e+12     78           mate  black       jamboger   \n",
       "\n",
       "       white_rating            black_id  black_rating opening_eco  \\\n",
       "0              1500                a-00          1191         D10   \n",
       "1              1322           skinnerua          1261         B00   \n",
       "2              1496                a-00          1500         C20   \n",
       "3              1439        adivanov2009          1454         D02   \n",
       "4              1523        adivanov2009          1469         C41   \n",
       "...             ...                 ...           ...         ...   \n",
       "20053          1691            jamboger          1220         A80   \n",
       "20054          1233  farrukhasomiddinov          1196         A41   \n",
       "20055          1219        schaaksmurf3          1286         D00   \n",
       "20056          1360            jamboger          1227         B07   \n",
       "20057          1235               ffbob          1339         D00   \n",
       "\n",
       "       opening_ply  limit  increment  \n",
       "0                5     15          2  \n",
       "1                4      5         10  \n",
       "2                3      5         10  \n",
       "3                3     20          0  \n",
       "4                5     30          3  \n",
       "...            ...    ...        ...  \n",
       "20053            2     10         10  \n",
       "20054            2     10          0  \n",
       "20055            3     10          0  \n",
       "20056            4     10          0  \n",
       "20057            3     10          0  \n",
       "\n",
       "[20058 rows x 13 columns]"
      ]
     },
     "execution_count": 22,
     "metadata": {},
     "output_type": "execute_result"
    }
   ],
   "source": [
    "df"
   ]
  },
  {
   "cell_type": "markdown",
   "metadata": {},
   "source": [
    "**(1)**\n",
    " Классификация на основе таблицы игр\n",
    "\n",
    " Это не очень хороший путь, поскольку предполагается, что известна некоторая информация *об игре*, а *информация об игроках* сведена к минимуму, что в реальности бесполезно. Более того, предсказание без учета дополнительных признаков каждого даст очень слабый результат."
   ]
  },
  {
   "cell_type": "markdown",
   "metadata": {},
   "source": [
    "Для начала переведем строковые данные в численные и нормализуем данные"
   ]
  },
  {
   "cell_type": "code",
   "execution_count": 23,
   "metadata": {},
   "outputs": [
    {
     "data": {
      "text/html": [
       "<div>\n",
       "<style scoped>\n",
       "    .dataframe tbody tr th:only-of-type {\n",
       "        vertical-align: middle;\n",
       "    }\n",
       "\n",
       "    .dataframe tbody tr th {\n",
       "        vertical-align: top;\n",
       "    }\n",
       "\n",
       "    .dataframe thead th {\n",
       "        text-align: right;\n",
       "    }\n",
       "</style>\n",
       "<table border=\"1\" class=\"dataframe\">\n",
       "  <thead>\n",
       "    <tr style=\"text-align: right;\">\n",
       "      <th></th>\n",
       "      <th>rated</th>\n",
       "      <th>created_at</th>\n",
       "      <th>turns</th>\n",
       "      <th>victory_status</th>\n",
       "      <th>winner</th>\n",
       "      <th>white_rating</th>\n",
       "      <th>black_rating</th>\n",
       "      <th>opening_eco</th>\n",
       "      <th>opening_ply</th>\n",
       "      <th>limit</th>\n",
       "      <th>increment</th>\n",
       "    </tr>\n",
       "  </thead>\n",
       "  <tbody>\n",
       "    <tr>\n",
       "      <th>0</th>\n",
       "      <td>0</td>\n",
       "      <td>1.504210e+12</td>\n",
       "      <td>13</td>\n",
       "      <td>3</td>\n",
       "      <td>2</td>\n",
       "      <td>1500</td>\n",
       "      <td>1191</td>\n",
       "      <td>25</td>\n",
       "      <td>5</td>\n",
       "      <td>15</td>\n",
       "      <td>2</td>\n",
       "    </tr>\n",
       "    <tr>\n",
       "      <th>1</th>\n",
       "      <td>1</td>\n",
       "      <td>1.504130e+12</td>\n",
       "      <td>16</td>\n",
       "      <td>2</td>\n",
       "      <td>1</td>\n",
       "      <td>1322</td>\n",
       "      <td>1261</td>\n",
       "      <td>159</td>\n",
       "      <td>4</td>\n",
       "      <td>5</td>\n",
       "      <td>10</td>\n",
       "    </tr>\n",
       "    <tr>\n",
       "      <th>2</th>\n",
       "      <td>1</td>\n",
       "      <td>1.504130e+12</td>\n",
       "      <td>61</td>\n",
       "      <td>1</td>\n",
       "      <td>2</td>\n",
       "      <td>1496</td>\n",
       "      <td>1500</td>\n",
       "      <td>186</td>\n",
       "      <td>3</td>\n",
       "      <td>5</td>\n",
       "      <td>10</td>\n",
       "    </tr>\n",
       "    <tr>\n",
       "      <th>3</th>\n",
       "      <td>1</td>\n",
       "      <td>1.504110e+12</td>\n",
       "      <td>61</td>\n",
       "      <td>1</td>\n",
       "      <td>2</td>\n",
       "      <td>1439</td>\n",
       "      <td>1454</td>\n",
       "      <td>261</td>\n",
       "      <td>3</td>\n",
       "      <td>20</td>\n",
       "      <td>0</td>\n",
       "    </tr>\n",
       "    <tr>\n",
       "      <th>4</th>\n",
       "      <td>1</td>\n",
       "      <td>1.504030e+12</td>\n",
       "      <td>95</td>\n",
       "      <td>1</td>\n",
       "      <td>2</td>\n",
       "      <td>1523</td>\n",
       "      <td>1469</td>\n",
       "      <td>152</td>\n",
       "      <td>5</td>\n",
       "      <td>30</td>\n",
       "      <td>3</td>\n",
       "    </tr>\n",
       "    <tr>\n",
       "      <th>...</th>\n",
       "      <td>...</td>\n",
       "      <td>...</td>\n",
       "      <td>...</td>\n",
       "      <td>...</td>\n",
       "      <td>...</td>\n",
       "      <td>...</td>\n",
       "      <td>...</td>\n",
       "      <td>...</td>\n",
       "      <td>...</td>\n",
       "      <td>...</td>\n",
       "      <td>...</td>\n",
       "    </tr>\n",
       "    <tr>\n",
       "      <th>20053</th>\n",
       "      <td>1</td>\n",
       "      <td>1.499791e+12</td>\n",
       "      <td>24</td>\n",
       "      <td>2</td>\n",
       "      <td>2</td>\n",
       "      <td>1691</td>\n",
       "      <td>1220</td>\n",
       "      <td>168</td>\n",
       "      <td>2</td>\n",
       "      <td>10</td>\n",
       "      <td>10</td>\n",
       "    </tr>\n",
       "    <tr>\n",
       "      <th>20054</th>\n",
       "      <td>1</td>\n",
       "      <td>1.499698e+12</td>\n",
       "      <td>82</td>\n",
       "      <td>1</td>\n",
       "      <td>1</td>\n",
       "      <td>1233</td>\n",
       "      <td>1196</td>\n",
       "      <td>3</td>\n",
       "      <td>2</td>\n",
       "      <td>10</td>\n",
       "      <td>0</td>\n",
       "    </tr>\n",
       "    <tr>\n",
       "      <th>20055</th>\n",
       "      <td>1</td>\n",
       "      <td>1.499698e+12</td>\n",
       "      <td>35</td>\n",
       "      <td>1</td>\n",
       "      <td>2</td>\n",
       "      <td>1219</td>\n",
       "      <td>1286</td>\n",
       "      <td>279</td>\n",
       "      <td>3</td>\n",
       "      <td>10</td>\n",
       "      <td>0</td>\n",
       "    </tr>\n",
       "    <tr>\n",
       "      <th>20056</th>\n",
       "      <td>1</td>\n",
       "      <td>1.499696e+12</td>\n",
       "      <td>109</td>\n",
       "      <td>2</td>\n",
       "      <td>2</td>\n",
       "      <td>1360</td>\n",
       "      <td>1227</td>\n",
       "      <td>353</td>\n",
       "      <td>4</td>\n",
       "      <td>10</td>\n",
       "      <td>0</td>\n",
       "    </tr>\n",
       "    <tr>\n",
       "      <th>20057</th>\n",
       "      <td>1</td>\n",
       "      <td>1.499643e+12</td>\n",
       "      <td>78</td>\n",
       "      <td>1</td>\n",
       "      <td>1</td>\n",
       "      <td>1235</td>\n",
       "      <td>1339</td>\n",
       "      <td>279</td>\n",
       "      <td>3</td>\n",
       "      <td>10</td>\n",
       "      <td>0</td>\n",
       "    </tr>\n",
       "  </tbody>\n",
       "</table>\n",
       "<p>20058 rows × 11 columns</p>\n",
       "</div>"
      ],
      "text/plain": [
       "       rated    created_at  turns  victory_status  winner  white_rating  \\\n",
       "0          0  1.504210e+12     13               3       2          1500   \n",
       "1          1  1.504130e+12     16               2       1          1322   \n",
       "2          1  1.504130e+12     61               1       2          1496   \n",
       "3          1  1.504110e+12     61               1       2          1439   \n",
       "4          1  1.504030e+12     95               1       2          1523   \n",
       "...      ...           ...    ...             ...     ...           ...   \n",
       "20053      1  1.499791e+12     24               2       2          1691   \n",
       "20054      1  1.499698e+12     82               1       1          1233   \n",
       "20055      1  1.499698e+12     35               1       2          1219   \n",
       "20056      1  1.499696e+12    109               2       2          1360   \n",
       "20057      1  1.499643e+12     78               1       1          1235   \n",
       "\n",
       "       black_rating  opening_eco  opening_ply  limit  increment  \n",
       "0              1191           25            5     15          2  \n",
       "1              1261          159            4      5         10  \n",
       "2              1500          186            3      5         10  \n",
       "3              1454          261            3     20          0  \n",
       "4              1469          152            5     30          3  \n",
       "...             ...          ...          ...    ...        ...  \n",
       "20053          1220          168            2     10         10  \n",
       "20054          1196            3            2     10          0  \n",
       "20055          1286          279            3     10          0  \n",
       "20056          1227          353            4     10          0  \n",
       "20057          1339          279            3     10          0  \n",
       "\n",
       "[20058 rows x 11 columns]"
      ]
     },
     "execution_count": 23,
     "metadata": {},
     "output_type": "execute_result"
    }
   ],
   "source": [
    "X = df\n",
    "X['rated'] = [int(i) for i in df['rated'].tolist()]\n",
    "X = X.replace({'winner' : { 'white' : 2, 'black' : 1, 'draw' : 0}}) # заменяем сроки из 'winner' на инт\n",
    "X = X.replace({'victory_status' : { 'outoftime' : 3, 'resign' : 2, 'mate' : 1, 'draw' : 0}}) # заменяем сроки из 'victory_status' на инт\n",
    "X = X.drop(columns=['white_id', 'black_id']) # удаляем ники пользователей, поскольку это не признак\n",
    "ln = X['opening_eco'].nunique()\n",
    "\n",
    "#Переходим от шахматного обозначения дебютов к классическому\n",
    "set(X['opening_eco'].tolist())\n",
    "X = X.replace(set(X['opening_eco'].tolist()), [i for i in range(ln)])\n",
    "X"
   ]
  },
  {
   "cell_type": "code",
   "execution_count": 24,
   "metadata": {},
   "outputs": [],
   "source": [
    "from sklearn import preprocessing\n",
    "y = X['winner']\n",
    "X = X.drop(columns=['winner'])\n",
    "\n",
    "X = pd.DataFrame(preprocessing.normalize(X, axis=0))"
   ]
  },
  {
   "cell_type": "code",
   "execution_count": 25,
   "metadata": {},
   "outputs": [],
   "source": [
    "from sklearn.model_selection import train_test_split\n",
    "X_train, X_test, y_train, y_test = train_test_split(X, y, test_size=0.33, random_state=42)"
   ]
  },
  {
   "cell_type": "code",
   "execution_count": 49,
   "metadata": {},
   "outputs": [
    {
     "name": "stdout",
     "output_type": "stream",
     "text": [
      "0.5007552870090635\n"
     ]
    },
    {
     "data": {
      "text/plain": [
       "Counter({2: 6620})"
      ]
     },
     "execution_count": 49,
     "metadata": {},
     "output_type": "execute_result"
    }
   ],
   "source": [
    "from sklearn.linear_model import LogisticRegression #\n",
    "from sklearn.metrics import accuracy_score\n",
    "LR = LogisticRegression(random_state=42, solver='saga')\n",
    "LR.fit(X_train, y_train)\n",
    "y_pred_LR = LR.predict(X_test)\n",
    "score = accuracy_score(y_test, y_pred_LR)\n",
    "print(score)\n",
    "Counter(y_pred_LR)"
   ]
  },
  {
   "cell_type": "code",
   "execution_count": 36,
   "metadata": {},
   "outputs": [
    {
     "name": "stdout",
     "output_type": "stream",
     "text": [
      "0.5007552870090635\n"
     ]
    },
    {
     "data": {
      "text/plain": [
       "Counter({2: 6620})"
      ]
     },
     "execution_count": 36,
     "metadata": {},
     "output_type": "execute_result"
    }
   ],
   "source": [
    "from sklearn.naive_bayes import MultinomialNB\n",
    "NB = MultinomialNB(class_prior = freq)\n",
    "NB.fit(X_train, y_train)\n",
    "y_pred_nb = NB.predict(X_test)\n",
    "score = accuracy_score(y_test, y_pred_nb)\n",
    "print(score)\n",
    "Counter(y_pred_nb)"
   ]
  },
  {
   "cell_type": "code",
   "execution_count": 43,
   "metadata": {},
   "outputs": [
    {
     "name": "stdout",
     "output_type": "stream",
     "text": [
      "0.5885196374622357\n"
     ]
    },
    {
     "data": {
      "text/plain": [
       "Counter({1: 2935, 2: 3404, 0: 281})"
      ]
     },
     "execution_count": 43,
     "metadata": {},
     "output_type": "execute_result"
    }
   ],
   "source": [
    "from sklearn.neighbors import KNeighborsClassifier\n",
    "KN = KNeighborsClassifier()\n",
    "KN.fit(X_train, y_train)\n",
    "y_pred_kn = KN.predict(X_test)\n",
    "score = accuracy_score(y_test, y_pred_kn)\n",
    "print(score)\n",
    "Counter(y_pred_kn)"
   ]
  },
  {
   "cell_type": "code",
   "execution_count": 46,
   "metadata": {},
   "outputs": [
    {
     "name": "stdout",
     "output_type": "stream",
     "text": [
      "0.613595166163142\n"
     ]
    },
    {
     "data": {
      "text/plain": [
       "Counter({1: 3015, 2: 3316, 0: 289})"
      ]
     },
     "execution_count": 46,
     "metadata": {},
     "output_type": "execute_result"
    }
   ],
   "source": [
    "from sklearn.tree import DecisionTreeClassifier #\n",
    "DT = DecisionTreeClassifier()\n",
    "DT.fit(X_train, y_train)\n",
    "y_pred_DT = DT.predict(X_test)\n",
    "score = accuracy_score(y_test, y_pred_DT)\n",
    "print(score)\n",
    "Counter(y_pred_DT)"
   ]
  },
  {
   "cell_type": "markdown",
   "metadata": {},
   "source": [
    "В общем ничего хорошего, три классификатора положили все игры в один класс, а дерево решений все равно не дотягивает даже до 70%. Попробуем поперебирать гиперпараметры алгортимов для улучшения результата"
   ]
  },
  {
   "cell_type": "code",
   "execution_count": 47,
   "metadata": {},
   "outputs": [
    {
     "name": "stdout",
     "output_type": "stream",
     "text": [
      "{'C': 9, 'penalty': 'l1', 'solver': 'liblinear'}\n"
     ]
    }
   ],
   "source": [
    "from sklearn.model_selection import GridSearchCV\n",
    "# заново создадим модель, указав солвер\n",
    "LR = LogisticRegression()\n",
    "\n",
    "# опишем сетку, по которой будем искать\n",
    "param_grid = {\n",
    "    'C': np.arange(1, 10),\n",
    "    'penalty': ['l1', 'l2'],\n",
    "    'solver': ['liblinear', 'saga']\n",
    "}\n",
    "# создадим объект GridSearchCV\n",
    "search = GridSearchCV(LR, param_grid, n_jobs=-1, cv=5, refit=True, scoring='accuracy')\n",
    "# запустим поиск\n",
    "search.fit(X, y)\n",
    "# выведем наилучшие параметры\n",
    "print(search.best_params_)"
   ]
  },
  {
   "cell_type": "code",
   "execution_count": 48,
   "metadata": {},
   "outputs": [
    {
     "name": "stdout",
     "output_type": "stream",
     "text": [
      "0.6675226586102719\n"
     ]
    },
    {
     "data": {
      "text/plain": [
       "Counter({2: 3709, 1: 2633, 0: 278})"
      ]
     },
     "execution_count": 48,
     "metadata": {},
     "output_type": "execute_result"
    }
   ],
   "source": [
    "LR_optimal = LogisticRegression(C = 9, penalty = 'l1', solver='liblinear').fit(X_train, y_train)\n",
    "y_pred_LR_optimal = LR_optimal.predict(X_test)\n",
    "score = accuracy_score(y_test, y_pred_LR_optimal)\n",
    "print(score)\n",
    "Counter(y_pred_LR_optimal)"
   ]
  },
  {
   "cell_type": "code",
   "execution_count": 32,
   "metadata": {},
   "outputs": [
    {
     "name": "stdout",
     "output_type": "stream",
     "text": [
      "{'criterion': 'gini', 'max_depth': 8, 'min_samples_leaf': 1, 'min_samples_split': 3}\n"
     ]
    }
   ],
   "source": [
    "DT = DecisionTreeClassifier()\n",
    "\n",
    "# опишем сетку, по которой будем искать\n",
    "param_grid = {\n",
    "    'max_depth': np.arange(2, 10),\n",
    "    'min_samples_leaf': np.arange(1, 10),\n",
    "    'min_samples_split': np.arange(2, 10),\n",
    "    'criterion': ['gini', 'entropy', 'log_loss']\n",
    "    #'max_leaf_nodes': [1, 5, None]    \n",
    "\n",
    "}\n",
    "# создадим объект GridSearchCV\n",
    "search = GridSearchCV(DT, param_grid, n_jobs=-1, cv=5, refit=True, scoring='accuracy')\n",
    "# запустим поиск\n",
    "search.fit(X, y)\n",
    "# выведем наилучшие параметры\n",
    "print(search.best_params_)"
   ]
  },
  {
   "cell_type": "code",
   "execution_count": 80,
   "metadata": {},
   "outputs": [
    {
     "name": "stdout",
     "output_type": "stream",
     "text": [
      "0.6503021148036254\n"
     ]
    },
    {
     "data": {
      "text/plain": [
       "Counter({2: 3233, 1: 3101, 0: 286})"
      ]
     },
     "execution_count": 80,
     "metadata": {},
     "output_type": "execute_result"
    }
   ],
   "source": [
    "DT_optimal = DecisionTreeClassifier(criterion = 'gini', max_depth = 8, min_samples_leaf = 1, min_samples_split = 3)\n",
    "DT_optimal.fit(X_train, y_train)\n",
    "y_pred_DT_optimal = DT_optimal.predict(X_test)\n",
    "score = accuracy_score(y_test, y_pred_DT_optimal)\n",
    "print(score)\n",
    "Counter(y_pred_DT_optimal)"
   ]
  },
  {
   "cell_type": "code",
   "execution_count": null,
   "metadata": {},
   "outputs": [],
   "source": [
    "KN = KNeighborsClassifier()\n",
    "\n",
    "# опишем сетку, по которой будем искать\n",
    "param_grid = {\n",
    "    'n_neighbors': np.arange(3, 10),\n",
    "    'metric': ['cosine', 'minkowski'],\n",
    "    'weights': ['uniform', 'distance']\n",
    "}\n",
    "# создадим объект GridSearchCV\n",
    "search = GridSearchCV(KN, param_grid, n_jobs=-1, cv=5, refit=True, scoring='accuracy')\n",
    "# запустим поиск\n",
    "search.fit(X, y)\n",
    "# выведем наилучшие параметры\n",
    "print(search.best_params_)"
   ]
  },
  {
   "cell_type": "code",
   "execution_count": 90,
   "metadata": {},
   "outputs": [
    {
     "name": "stdout",
     "output_type": "stream",
     "text": [
      "0.6256797583081571\n"
     ]
    },
    {
     "data": {
      "text/plain": [
       "Counter({2: 3585, 1: 2771, 0: 264})"
      ]
     },
     "execution_count": 90,
     "metadata": {},
     "output_type": "execute_result"
    }
   ],
   "source": [
    "from sklearn.neighbors import KNeighborsClassifier\n",
    "KN_optimal = KNeighborsClassifier(metric = 'cosine', n_neighbors = 26, weights = 'distance')\n",
    "KN_optimal.fit(X_train, y_train)\n",
    "y_pred_kn_optimal = KN_optimal.predict(X_test)\n",
    "score = accuracy_score(y_test, y_pred_kn_optimal)\n",
    "print(score)\n",
    "Counter(y_pred_kn_optimal)"
   ]
  }
 ],
 "metadata": {
  "kernelspec": {
   "display_name": "Python 3.10.8 64-bit (microsoft store)",
   "language": "python",
   "name": "python3"
  },
  "language_info": {
   "codemirror_mode": {
    "name": "ipython",
    "version": 3
   },
   "file_extension": ".py",
   "mimetype": "text/x-python",
   "name": "python",
   "nbconvert_exporter": "python",
   "pygments_lexer": "ipython3",
   "version": "3.10.8"
  },
  "orig_nbformat": 4,
  "vscode": {
   "interpreter": {
    "hash": "cfffebc1f3acfec979e25c9e6039be45e774ada6e9614b0321c29621ae3c6444"
   }
  }
 },
 "nbformat": 4,
 "nbformat_minor": 2
}
